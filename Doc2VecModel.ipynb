{
  "nbformat": 4,
  "nbformat_minor": 0,
  "metadata": {
    "colab": {
      "name": "Doc2VecModel.ipynb",
      "provenance": [],
      "collapsed_sections": []
    },
    "kernelspec": {
      "name": "python3",
      "display_name": "Python 3"
    }
  },
  "cells": [
    {
      "cell_type": "code",
      "metadata": {
        "id": "56Qa2vPkQXZJ",
        "colab_type": "code",
        "outputId": "4f084ca4-c89e-4b6a-9a56-f3f6a7d468c2",
        "colab": {
          "base_uri": "https://localhost:8080/",
          "height": 122
        }
      },
      "source": [
        "from google.colab import drive\n",
        "drive.mount('/content/drive')"
      ],
      "execution_count": 0,
      "outputs": [
        {
          "output_type": "stream",
          "text": [
            "Go to this URL in a browser: https://accounts.google.com/o/oauth2/auth?client_id=947318989803-6bn6qk8qdgf4n4g3pfee6491hc0brc4i.apps.googleusercontent.com&redirect_uri=urn%3aietf%3awg%3aoauth%3a2.0%3aoob&response_type=code&scope=email%20https%3a%2f%2fwww.googleapis.com%2fauth%2fdocs.test%20https%3a%2f%2fwww.googleapis.com%2fauth%2fdrive%20https%3a%2f%2fwww.googleapis.com%2fauth%2fdrive.photos.readonly%20https%3a%2f%2fwww.googleapis.com%2fauth%2fpeopleapi.readonly\n",
            "\n",
            "Enter your authorization code:\n",
            "··········\n",
            "Mounted at /content/drive\n"
          ],
          "name": "stdout"
        }
      ]
    },
    {
      "cell_type": "code",
      "metadata": {
        "id": "iJISP4TWoSEj",
        "colab_type": "code",
        "outputId": "49c295ad-6b79-4f6a-da90-ffc0579f5d41",
        "colab": {
          "base_uri": "https://localhost:8080/",
          "height": 255
        }
      },
      "source": [
        "import pandas as pd\n",
        "df_csv = pd.read_csv(\"/content/drive/My Drive/doc2vecData.csv\")\n",
        "print (df_csv)"
      ],
      "execution_count": 0,
      "outputs": [
        {
          "output_type": "stream",
          "text": [
            "                                              Questions                                            Answers\n",
            "0         When is my FOM  of section D class on Monday?  FOM  of section D will be held on Monday at 08...\n",
            "1     FOM  of section D will be held on Monday at 08...  At what time is my FOM  of section D class on ...\n",
            "2     At what time is my FOM  of section D class on ...  FOM  of section D will be held on Monday at 08...\n",
            "3     FOM  of section D will be held on Monday at 08...     Where is my FOM  of section D class on Monday?\n",
            "4        Where is my FOM  of section D class on Monday?  FOM  of section D will be held on Monday in Gr...\n",
            "...                                                 ...                                                ...\n",
            "3794     At what time is my IICT Lab   class on Friday?  IICT Lab   will be held on Friday at 11:30  to...\n",
            "3795  IICT Lab   will be held on Friday at 11:30  to...            Where is my IICT Lab   class on Friday?\n",
            "3796            Where is my IICT Lab   class on Friday?   IICT Lab   will be held on Friday in Khyber-IV .\n",
            "3797   IICT Lab   will be held on Friday in Khyber-IV .    In which room is my IICT Lab   class on Friday?\n",
            "3798    In which room is my IICT Lab   class on Friday?   IICT Lab   will be held on Friday in Khyber-IV .\n",
            "\n",
            "[3799 rows x 2 columns]\n"
          ],
          "name": "stdout"
        }
      ]
    },
    {
      "cell_type": "code",
      "metadata": {
        "id": "qMEzzhFmn7nd",
        "colab_type": "code",
        "outputId": "747943d2-3b1e-4578-f9c7-720f144f2b8a",
        "colab": {
          "base_uri": "https://localhost:8080/",
          "height": 85
        }
      },
      "source": [
        "from gensim import corpora, models, similarities\n",
        "import jieba\n",
        "import numpy\n",
        "\n",
        "texts=df_csv['Questions'].tolist()\n",
        "answers=df_csv['Answers'].tolist()\n",
        "#print(texts)\n",
        "#texts = ['When is my Artificial Intelligence class today?', 'Natsume Soseki is a well-known Japanese novelist and his Kokoro is a masterpiece.', 'American modern poetry is good. ']\n",
        "#keyword = 'Can you please tell me at what time is my AI class today?'\n",
        "keyword = input(\"Enter your query: \")\n",
        "texts = [jieba.lcut(text) for text in texts]\n",
        "dictionary = corpora.Dictionary(texts)\n",
        "feature_cnt = len(dictionary.token2id)\n",
        "corpus = [dictionary.doc2bow(text) for text in texts]\n",
        "tfidf = models.TfidfModel(corpus) \n",
        "kw_vector = dictionary.doc2bow(jieba.lcut(keyword))\n",
        "index = similarities.SparseMatrixSimilarity(tfidf[corpus], num_features = feature_cnt)\n",
        "sim = index[tfidf[kw_vector]]\n",
        "result=numpy.where(sim == numpy.amax(sim))\n",
        "max_index=int(result[0])\n",
        "print (\"Answer is: \")\n",
        "print (answers[max_index])\n",
        "#print (texts[max_index])\n",
        "print()\n"
      ],
      "execution_count": 0,
      "outputs": [
        {
          "output_type": "stream",
          "text": [
            "Enter your query: When is FOM class on Monday?\n",
            "Answer is: \n",
            "FOM  of section D will be held on Monday at 08:30 to 09:25.\n",
            "\n"
          ],
          "name": "stdout"
        }
      ]
    },
    {
      "cell_type": "code",
      "metadata": {
        "id": "7qs-9V8V-Yhq",
        "colab_type": "code",
        "colab": {}
      },
      "source": [
        ""
      ],
      "execution_count": 0,
      "outputs": []
    }
  ]
}